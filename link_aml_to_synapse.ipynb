{
  "cells": [
    {
      "cell_type": "markdown",
      "source": [
        "# Notebook to integrate Azure ML with synapse"
      ],
      "metadata": {
        "nteract": {
          "transient": {
            "deleting": false
          }
        }
      }
    },
    {
      "cell_type": "code",
      "source": [
        "from azure.identity import DefaultAzureCredential\n",
        "from azure.ai.ml import MLClient\n",
        "\n",
        "subscription_id = \"8c5f588e-7bbb-44bb-ac46-5c280a516c9f\"\n",
        "resource_group = \"resource_group_final\"\n",
        "workspace_name = \"synapse-workspace-final\"\n",
        "\n",
        "credential = DefaultAzureCredential()\n",
        "\n",
        "ml_client = MLClient(credential, subscription_id, resource_group, workspace_name)"
      ],
      "outputs": [],
      "execution_count": 1,
      "metadata": {
        "gather": {
          "logged": 1710963092334
        }
      }
    },
    {
      "cell_type": "markdown",
      "source": [
        "## Connect to Synapse DataLake"
      ],
      "metadata": {
        "nteract": {
          "transient": {
            "deleting": false
          }
        }
      }
    },
    {
      "cell_type": "code",
      "source": [
        "from azureml.core import Workspace\n",
        "from azureml.core.datastore import Datastore\n",
        "\n",
        "# Load your Azure ML Workspace\n",
        "workspace = Workspace.from_config()\n",
        "\n",
        "# Register a new datastore with ADLS Gen2 info\n",
        "datastore = Datastore.register_azure_blob_container(\n",
        "    workspace=workspace,\n",
        "    datastore_name='irrelevant_datastore',\n",
        "    account_name='finalaccountdatalake',  # ADLS Gen2 storage account name\n",
        "    container_name='datalakefs',\n",
        "    account_key='CjVN5Ex9XDQVHorTKhz/7sUDoYjUTYuMskDriQblj6+W0hiF0IZnNRlV6fFrEqblrrTE0+zKbffN+AStys7vjQ=='\n",
        ")"
      ],
      "outputs": [
        {
          "output_type": "stream",
          "name": "stdout",
          "text": "Performing interactive authentication. Please follow the instructions on the terminal.\nInteractive authentication successfully completed.\n"
        },
        {
          "output_type": "stream",
          "name": "stderr",
          "text": "To sign in, use a web browser to open the page https://microsoft.com/devicelogin and enter the code GFKZ9EL5L to authenticate.\n"
        }
      ],
      "execution_count": 2,
      "metadata": {
        "jupyter": {
          "source_hidden": false,
          "outputs_hidden": false
        },
        "nteract": {
          "transient": {
            "deleting": false
          }
        },
        "gather": {
          "logged": 1710963265786
        }
      }
    },
    {
      "cell_type": "markdown",
      "source": [
        "## List files in storage"
      ],
      "metadata": {
        "nteract": {
          "transient": {
            "deleting": false
          }
        }
      }
    },
    {
      "cell_type": "code",
      "source": [
        "# pip install azure-storage-blob"
      ],
      "outputs": [],
      "execution_count": 7,
      "metadata": {
        "jupyter": {
          "source_hidden": false,
          "outputs_hidden": false
        },
        "nteract": {
          "transient": {
            "deleting": false
          }
        },
        "gather": {
          "logged": 1710963643508
        }
      }
    },
    {
      "cell_type": "code",
      "source": [
        "from azureml.core import Workspace, Datastore\n",
        "from azure.core.exceptions import ResourceNotFoundError\n",
        "from azure.storage.blob import BlobServiceClient\n",
        "\n",
        "\n",
        "# Get the datastore\n",
        "datastore = Datastore.get(workspace, 'irrelevant_datastore')\n",
        "\n",
        "# Create a BlobServiceClient\n",
        "blob_service_client = BlobServiceClient(account_url=f\"https://{datastore.account_name}.blob.core.windows.net\",\n",
        "                                        credential=datastore.account_key)\n",
        "\n",
        "try:\n",
        "    # Get a blob container client\n",
        "    container_client = blob_service_client.get_container_client(datastore.container_name)\n",
        "    \n",
        "    # List blobs in the container\n",
        "    blob_list = container_client.list_blobs(name_starts_with='/')  # Adjust the path as needed\n",
        "    for blob in blob_list:\n",
        "        print(blob.name)\n",
        "except ResourceNotFoundError:\n",
        "    print(\"The specified container does not exist.\")"
      ],
      "outputs": [
        {
          "output_type": "stream",
          "name": "stdout",
          "text": "apple.csv\n"
        }
      ],
      "execution_count": 6,
      "metadata": {
        "jupyter": {
          "source_hidden": false,
          "outputs_hidden": false
        },
        "nteract": {
          "transient": {
            "deleting": false
          }
        },
        "gather": {
          "logged": 1710963631369
        }
      }
    },
    {
      "cell_type": "markdown",
      "source": [
        "## Get data from Synapse DataLake"
      ],
      "metadata": {
        "nteract": {
          "transient": {
            "deleting": false
          }
        }
      }
    },
    {
      "cell_type": "code",
      "source": [
        "from azureml.core import Dataset\n",
        "\n",
        "# Create a dataset from a file path in the datastore\n",
        "dataset = Dataset.Tabular.from_delimited_files(path=(datastore, '/apple.csv'))\n",
        "\n",
        "# Load the dataset into a dataframe (for example purposes)\n",
        "dataframe = dataset.to_pandas_dataframe()\n",
        "dataframe"
      ],
      "outputs": [
        {
          "output_type": "execute_result",
          "execution_count": 9,
          "data": {
            "text/plain": "        A_id      Size    Weight  Sweetness  Crunchiness  Juiciness  Ripeness  \\\n0        0.0 -3.970049 -2.512336   5.346330    -1.012009   1.844900  0.329840   \n1        1.0 -1.195217 -2.839257   3.664059     1.588232   0.853286  0.867530   \n2        2.0 -0.292024 -1.351282  -1.738429    -0.342616   2.838636 -0.038033   \n3        3.0 -0.657196 -2.271627   1.324874    -0.097875   3.637970 -3.413761   \n4        4.0  1.364217 -1.296612  -0.384658    -0.553006   3.030874 -1.303849   \n...      ...       ...       ...        ...          ...        ...       ...   \n3996  3996.0 -0.293118  1.949253  -0.204020    -0.640196   0.024523 -1.087900   \n3997  3997.0 -2.634515 -2.138247  -2.440461     0.657223   2.199709  4.763859   \n3998  3998.0 -4.008004 -1.779337   2.366397    -0.200329   2.161435  0.214488   \n3999  3999.0  0.278540 -1.715505   0.121217    -1.154075   1.266677 -0.776571   \n4000     NaN       NaN       NaN        NaN          NaN        NaN       NaN   \n\n       Acidity Quality  \n0    -0.491590    good  \n1    -0.722809    good  \n2     2.621636     bad  \n3     0.790723    good  \n4     0.501984    good  \n...        ...     ...  \n3996  1.854235    good  \n3997 -1.334611     bad  \n3998 -2.229720    good  \n3999  1.599796    good  \n4000       NaN    None  \n\n[4001 rows x 9 columns]",
            "text/html": "<div>\n<style scoped>\n    .dataframe tbody tr th:only-of-type {\n        vertical-align: middle;\n    }\n\n    .dataframe tbody tr th {\n        vertical-align: top;\n    }\n\n    .dataframe thead th {\n        text-align: right;\n    }\n</style>\n<table border=\"1\" class=\"dataframe\">\n  <thead>\n    <tr style=\"text-align: right;\">\n      <th></th>\n      <th>A_id</th>\n      <th>Size</th>\n      <th>Weight</th>\n      <th>Sweetness</th>\n      <th>Crunchiness</th>\n      <th>Juiciness</th>\n      <th>Ripeness</th>\n      <th>Acidity</th>\n      <th>Quality</th>\n    </tr>\n  </thead>\n  <tbody>\n    <tr>\n      <th>0</th>\n      <td>0.0</td>\n      <td>-3.970049</td>\n      <td>-2.512336</td>\n      <td>5.346330</td>\n      <td>-1.012009</td>\n      <td>1.844900</td>\n      <td>0.329840</td>\n      <td>-0.491590</td>\n      <td>good</td>\n    </tr>\n    <tr>\n      <th>1</th>\n      <td>1.0</td>\n      <td>-1.195217</td>\n      <td>-2.839257</td>\n      <td>3.664059</td>\n      <td>1.588232</td>\n      <td>0.853286</td>\n      <td>0.867530</td>\n      <td>-0.722809</td>\n      <td>good</td>\n    </tr>\n    <tr>\n      <th>2</th>\n      <td>2.0</td>\n      <td>-0.292024</td>\n      <td>-1.351282</td>\n      <td>-1.738429</td>\n      <td>-0.342616</td>\n      <td>2.838636</td>\n      <td>-0.038033</td>\n      <td>2.621636</td>\n      <td>bad</td>\n    </tr>\n    <tr>\n      <th>3</th>\n      <td>3.0</td>\n      <td>-0.657196</td>\n      <td>-2.271627</td>\n      <td>1.324874</td>\n      <td>-0.097875</td>\n      <td>3.637970</td>\n      <td>-3.413761</td>\n      <td>0.790723</td>\n      <td>good</td>\n    </tr>\n    <tr>\n      <th>4</th>\n      <td>4.0</td>\n      <td>1.364217</td>\n      <td>-1.296612</td>\n      <td>-0.384658</td>\n      <td>-0.553006</td>\n      <td>3.030874</td>\n      <td>-1.303849</td>\n      <td>0.501984</td>\n      <td>good</td>\n    </tr>\n    <tr>\n      <th>...</th>\n      <td>...</td>\n      <td>...</td>\n      <td>...</td>\n      <td>...</td>\n      <td>...</td>\n      <td>...</td>\n      <td>...</td>\n      <td>...</td>\n      <td>...</td>\n    </tr>\n    <tr>\n      <th>3996</th>\n      <td>3996.0</td>\n      <td>-0.293118</td>\n      <td>1.949253</td>\n      <td>-0.204020</td>\n      <td>-0.640196</td>\n      <td>0.024523</td>\n      <td>-1.087900</td>\n      <td>1.854235</td>\n      <td>good</td>\n    </tr>\n    <tr>\n      <th>3997</th>\n      <td>3997.0</td>\n      <td>-2.634515</td>\n      <td>-2.138247</td>\n      <td>-2.440461</td>\n      <td>0.657223</td>\n      <td>2.199709</td>\n      <td>4.763859</td>\n      <td>-1.334611</td>\n      <td>bad</td>\n    </tr>\n    <tr>\n      <th>3998</th>\n      <td>3998.0</td>\n      <td>-4.008004</td>\n      <td>-1.779337</td>\n      <td>2.366397</td>\n      <td>-0.200329</td>\n      <td>2.161435</td>\n      <td>0.214488</td>\n      <td>-2.229720</td>\n      <td>good</td>\n    </tr>\n    <tr>\n      <th>3999</th>\n      <td>3999.0</td>\n      <td>0.278540</td>\n      <td>-1.715505</td>\n      <td>0.121217</td>\n      <td>-1.154075</td>\n      <td>1.266677</td>\n      <td>-0.776571</td>\n      <td>1.599796</td>\n      <td>good</td>\n    </tr>\n    <tr>\n      <th>4000</th>\n      <td>NaN</td>\n      <td>NaN</td>\n      <td>NaN</td>\n      <td>NaN</td>\n      <td>NaN</td>\n      <td>NaN</td>\n      <td>NaN</td>\n      <td>NaN</td>\n      <td>None</td>\n    </tr>\n  </tbody>\n</table>\n<p>4001 rows × 9 columns</p>\n</div>"
          },
          "metadata": {}
        }
      ],
      "execution_count": 9,
      "metadata": {
        "jupyter": {
          "source_hidden": false,
          "outputs_hidden": false
        },
        "nteract": {
          "transient": {
            "deleting": false
          }
        },
        "gather": {
          "logged": 1710963734559
        }
      }
    }
  ],
  "metadata": {
    "kernelspec": {
      "name": "python310-sdkv2",
      "language": "python",
      "display_name": "Python 3.10 - SDK v2"
    },
    "language_info": {
      "name": "python",
      "version": "3.10.11",
      "mimetype": "text/x-python",
      "codemirror_mode": {
        "name": "ipython",
        "version": 3
      },
      "pygments_lexer": "ipython3",
      "nbconvert_exporter": "python",
      "file_extension": ".py"
    },
    "microsoft": {
      "ms_spell_check": {
        "ms_spell_check_language": "en"
      }
    },
    "kernel_info": {
      "name": "python310-sdkv2"
    },
    "nteract": {
      "version": "nteract-front-end@1.0.0"
    }
  },
  "nbformat": 4,
  "nbformat_minor": 2
}