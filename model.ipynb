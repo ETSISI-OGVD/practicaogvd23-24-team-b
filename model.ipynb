{
 "cells": [
  {
   "cell_type": "code",
   "execution_count": 24,
   "metadata": {},
   "outputs": [],
   "source": [
    "import pandas as pd\n",
    "from sklearn.preprocessing import LabelEncoder\n",
    "from sklearn.model_selection import train_test_split\n",
    "from sklearn.neural_network import MLPClassifier\n",
    "from sklearn.model_selection import cross_val_score\n",
    "#import mlflow\n",
    "import numpy as np\n",
    "#from azureml.core import Workspace"
   ]
  },
  {
   "cell_type": "code",
   "execution_count": 29,
   "metadata": {},
   "outputs": [],
   "source": [
    "df = pd.read_csv('https://raw.githubusercontent.com/ETSISI-OGVD/practicaogvd23-24-team-b/main/data/apple_quality.csv', sep=',')\n",
    "\n",
    "df.dropna(inplace=True)\n",
    "\n",
    "df.drop('A_id', axis=1, inplace=True)\n",
    "\n",
    "df = df[df['Acidity'] != 'Created_by_Nidula_Elgiriyewithana']\n",
    "df['Acidity'] = df['Acidity'].astype(float)\n",
    "\n",
    "le = LabelEncoder()\n",
    "df['Quality'] = le.fit_transform(df['Quality'])"
   ]
  },
  {
   "cell_type": "code",
   "execution_count": 26,
   "metadata": {},
   "outputs": [],
   "source": [
    "X = df.drop('Quality', axis=1)\n",
    "y = df['Quality']\n",
    "\n",
    "X_train, X_test, y_train, y_test = train_test_split(X, y, test_size=0.2, random_state=42)"
   ]
  },
  {
   "cell_type": "code",
   "execution_count": null,
   "metadata": {},
   "outputs": [],
   "source": [
    "# connect to your workspace\n",
    "ws = Workspace.from_config()\n",
    "\n",
    "# create experiment and start logging to a new run in the experiment\n",
    "experiment_name = \"azure-ml-apple-quality\"\n",
    "\n",
    "# set up MLflow to track the metrics\n",
    "mlflow.set_tracking_uri(ws.get_mlflow_tracking_uri())\n",
    "mlflow.set_experiment(experiment_name)\n",
    "mlflow.autolog()\n",
    "\n",
    "# set up the Logistic regression model\n",
    "mlp_clf = MLPClassifier(hidden_layer_sizes=(100, 50), learning_rate_init=0.075)\n",
    "\n",
    "# train the model\n",
    "with mlflow.start_run() as run:\n",
    "    scores = cross_val_score(mlp_clf, X, y, cv=5) \n",
    "\n",
    "print(\"MLP Classifier cross-validation scores:\", scores)\n",
    "print(\"Mean accuracy:\", scores.mean())\n",
    "\n",
    "# register the model\n",
    "model_uri = \"runs:/{}/model\".format(run.info.run_id)\n",
    "model = mlflow.register_model(model_uri, \"sklearn_apple_model\")"
   ]
  }
 ],
 "metadata": {
  "kernelspec": {
   "display_name": "automatic",
   "language": "python",
   "name": "python3"
  },
  "language_info": {
   "codemirror_mode": {
    "name": "ipython",
    "version": 3
   },
   "file_extension": ".py",
   "mimetype": "text/x-python",
   "name": "python",
   "nbconvert_exporter": "python",
   "pygments_lexer": "ipython3",
   "version": "3.10.13"
  }
 },
 "nbformat": 4,
 "nbformat_minor": 2
}
