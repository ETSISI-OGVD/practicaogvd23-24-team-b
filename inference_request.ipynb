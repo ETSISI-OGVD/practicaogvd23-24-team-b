{
 "cells": [
  {
   "cell_type": "code",
   "execution_count": 23,
   "metadata": {},
   "outputs": [],
   "source": [
    "import pandas as pd\n",
    "import numpy as np\n",
    "from sklearn.preprocessing import LabelEncoder\n",
    "from sklearn.model_selection import train_test_split\n",
    "from sklearn.neural_network import MLPClassifier\n",
    "from sklearn.model_selection import cross_val_score"
   ]
  },
  {
   "cell_type": "markdown",
   "metadata": {},
   "source": [
    "### Load dataset and preprocess"
   ]
  },
  {
   "cell_type": "code",
   "execution_count": 24,
   "metadata": {},
   "outputs": [],
   "source": [
    "df = pd.read_csv('https://raw.githubusercontent.com/ETSISI-OGVD/practicaogvd23-24-team-b/main/data/apple_quality.csv', sep=',')\n",
    "\n",
    "df.dropna(inplace=True)\n",
    "\n",
    "df.drop('A_id', axis=1, inplace=True)\n",
    "\n",
    "df = df[df['Acidity'] != 'Created_by_Nidula_Elgiriyewithana']\n",
    "df['Acidity'] = df['Acidity'].astype(float)\n",
    "\n",
    "le = LabelEncoder()\n",
    "df['Quality'] = le.fit_transform(df['Quality'])\n",
    "\n",
    "X = df.drop('Quality', axis=1)\n",
    "y = df['Quality']"
   ]
  },
  {
   "cell_type": "markdown",
   "metadata": {},
   "source": [
    "Select an element to predict"
   ]
  },
  {
   "cell_type": "code",
   "execution_count": 29,
   "metadata": {},
   "outputs": [
    {
     "name": "stdout",
     "output_type": "stream",
     "text": [
      "Data:  [1.286737909, -2.429524527, 0.956133102, 1.477542241, 4.786375676, -3.382357404, 2.519346925]\n",
      "Class:  1\n"
     ]
    }
   ],
   "source": [
    "element_index = 39\n",
    "\n",
    "infer = X.loc[element_index, :].values.tolist()\n",
    "\n",
    "print(\"Data: \", infer)\n",
    "print(\"Class: \", y.loc[element_index])"
   ]
  },
  {
   "cell_type": "markdown",
   "metadata": {},
   "source": [
    "### Inference"
   ]
  },
  {
   "cell_type": "code",
   "execution_count": 30,
   "metadata": {},
   "outputs": [
    {
     "name": "stdout",
     "output_type": "stream",
     "text": [
      "Predicted class:  b'[1]'\n"
     ]
    }
   ],
   "source": [
    "import urllib.request\n",
    "import json\n",
    "import os\n",
    "import ssl\n",
    "\n",
    "def allowSelfSignedHttps(allowed):\n",
    "    if allowed and not os.environ.get('PYTHONHTTPSVERIFY', '') and getattr(ssl, '_create_unverified_context', None):\n",
    "        ssl._create_default_https_context = ssl._create_unverified_context\n",
    "\n",
    "allowSelfSignedHttps(True)\n",
    "\n",
    "data =  {\n",
    "  \"input_data\": {\n",
    "    \"columns\": [\n",
    "      \"Size\",\n",
    "      \"Weight\",\n",
    "      \"Sweetness\",\n",
    "      \"Crunchiness\",\n",
    "      \"Juiciness\",\n",
    "      \"Ripeness\",\n",
    "      \"Acidity\"\n",
    "    ],\n",
    "    \"index\": [1],\n",
    "    \"data\": [infer]\n",
    "  },\n",
    "  \"params\": {}\n",
    "}\n",
    "\n",
    "body = str.encode(json.dumps(data))\n",
    "\n",
    "url = 'https://azure-ml-ws-fltvc.northeurope.inference.ml.azure.com/score'\n",
    "api_key = 'APaoT4wdIjSP3n43KETgsat15e2j6cyd' # Service deleted (key is not valid)\n",
    "if not api_key:\n",
    "    raise Exception(\"A key should be provided to invoke the endpoint\")\n",
    "\n",
    "headers = {'Content-Type':'application/json', 'Authorization':('Bearer '+ api_key), 'azureml-model-deployment': 'sklearn-apple-model-1' }\n",
    "req = urllib.request.Request(url, body, headers)\n",
    "\n",
    "try:\n",
    "    response = urllib.request.urlopen(req)\n",
    "\n",
    "    result = response.read()\n",
    "    print(\"Predicted class: \", result)\n",
    "except urllib.error.HTTPError as error:\n",
    "    print(\"The request failed with status code: \" + str(error.code))\n",
    "\n",
    "    print(error.info())\n",
    "    print(error.read().decode(\"utf8\", 'ignore'))\n",
    "\n"
   ]
  }
 ],
 "metadata": {
  "kernelspec": {
   "display_name": "automatic",
   "language": "python",
   "name": "python3"
  },
  "language_info": {
   "codemirror_mode": {
    "name": "ipython",
    "version": 3
   },
   "file_extension": ".py",
   "mimetype": "text/x-python",
   "name": "python",
   "nbconvert_exporter": "python",
   "pygments_lexer": "ipython3",
   "version": "3.10.13"
  }
 },
 "nbformat": 4,
 "nbformat_minor": 2
}
