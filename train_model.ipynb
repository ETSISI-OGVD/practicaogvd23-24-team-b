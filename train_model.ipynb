{
  "cells": [
    {
      "cell_type": "code",
      "source": [
        "import pandas as pd\n",
        "from sklearn.preprocessing import LabelEncoder\n",
        "from sklearn.model_selection import train_test_split\n",
        "from sklearn.neural_network import MLPClassifier\n",
        "from sklearn.model_selection import cross_val_score\n",
        "import mlflow\n",
        "import numpy as np\n",
        "from azureml.core import Workspace"
      ],
      "outputs": [],
      "execution_count": 1,
      "metadata": {
        "gather": {
          "logged": 1710515176740
        }
      }
    },
    {
      "cell_type": "code",
      "source": [
        "# connect to your workspace\n",
        "ws = Workspace.from_config()"
      ],
      "outputs": [],
      "execution_count": 2,
      "metadata": {
        "jupyter": {
          "source_hidden": false,
          "outputs_hidden": false
        },
        "nteract": {
          "transient": {
            "deleting": false
          }
        },
        "gather": {
          "logged": 1710515177817
        }
      }
    },
    {
      "cell_type": "code",
      "source": [
        "df = pd.read_csv('https://raw.githubusercontent.com/ETSISI-OGVD/practicaogvd23-24-team-b/main/data/apple_quality.csv', sep=',')\n",
        "\n",
        "df.dropna(inplace=True)\n",
        "\n",
        "df.drop('A_id', axis=1, inplace=True)\n",
        "\n",
        "df = df[df['Acidity'] != 'Created_by_Nidula_Elgiriyewithana']\n",
        "df['Acidity'] = df['Acidity'].astype(float)\n",
        "\n",
        "le = LabelEncoder()\n",
        "df['Quality'] = le.fit_transform(df['Quality'])"
      ],
      "outputs": [],
      "execution_count": 3,
      "metadata": {
        "jupyter": {
          "source_hidden": false,
          "outputs_hidden": false
        },
        "nteract": {
          "transient": {
            "deleting": false
          }
        },
        "gather": {
          "logged": 1710515178260
        }
      }
    },
    {
      "cell_type": "code",
      "source": [
        "X = df.drop('Quality', axis=1)\n",
        "y = df['Quality']\n",
        "\n",
        "X_train, X_test, y_train, y_test = train_test_split(X, y, test_size=0.2, random_state=42)"
      ],
      "outputs": [],
      "execution_count": 4,
      "metadata": {
        "jupyter": {
          "source_hidden": false,
          "outputs_hidden": false
        },
        "nteract": {
          "transient": {
            "deleting": false
          }
        },
        "gather": {
          "logged": 1710515178338
        }
      }
    },
    {
      "cell_type": "code",
      "source": [
        "# create experiment and start logging to a new run in the experiment\n",
        "experiment_name = \"azure-ml-apple-quality\"\n",
        "\n",
        "# set up MLflow to track the metrics\n",
        "mlflow.set_tracking_uri(ws.get_mlflow_tracking_uri())\n",
        "mlflow.set_experiment(experiment_name)\n",
        "mlflow.autolog()\n",
        "\n",
        "# set up the Logistic regression model\n",
        "mlp_clf = MLPClassifier(hidden_layer_sizes=(100, 50), learning_rate_init=0.075)\n",
        "\n",
        "# train the model\n",
        "with mlflow.start_run() as run:\n",
        "    scores = cross_val_score(mlp_clf, X, y, cv=5) \n",
        "\n",
        "print(\"MLP Classifier cross-validation scores:\", scores)\n",
        "print(\"Mean accuracy:\", scores.mean())\n",
        "\n",
        "# register the model\n",
        "model_uri = \"runs:/{}/model\".format(run.info.run_id)\n",
        "model = mlflow.register_model(model_uri, \"sklearn_apple_model\")"
      ],
      "outputs": [
        {
          "output_type": "stream",
          "name": "stderr",
          "text": "2024/03/15 15:06:27 INFO mlflow.tracking.fluent: Autologging successfully enabled for sklearn.\n2024/03/15 15:06:36 WARNING mlflow.utils.autologging_utils: MLflow autologging encountered a warning: \"/anaconda/envs/azureml_py310_sdkv2/lib/python3.10/site-packages/_distutils_hack/__init__.py:33: UserWarning: Setuptools is replacing distutils.\"\n2024/03/15 15:06:43 WARNING mlflow.utils.autologging_utils: Encountered unexpected error during sklearn autologging: UserError: Resource Conflict: ArtifactId ExperimentRun/dcid.432b8fd0-4961-4ed2-9e06-56c2f51ece24/training_confusion_matrix.png already exists.\nUserError: Resource Conflict: ArtifactId ExperimentRun/dcid.432b8fd0-4961-4ed2-9e06-56c2f51ece24/training_precision_recall_curve.png already exists.\nUserError: Resource Conflict: ArtifactId ExperimentRun/dcid.432b8fd0-4961-4ed2-9e06-56c2f51ece24/training_roc_curve.png already exists.\n2024/03/15 15:06:46 WARNING mlflow.utils.autologging_utils: Encountered unexpected error during sklearn autologging: UserError: Resource Conflict: ArtifactId ExperimentRun/dcid.432b8fd0-4961-4ed2-9e06-56c2f51ece24/training_confusion_matrix.png already exists.\nUserError: Resource Conflict: ArtifactId ExperimentRun/dcid.432b8fd0-4961-4ed2-9e06-56c2f51ece24/training_precision_recall_curve.png already exists.\nUserError: Resource Conflict: ArtifactId ExperimentRun/dcid.432b8fd0-4961-4ed2-9e06-56c2f51ece24/training_roc_curve.png already exists.\n2024/03/15 15:06:48 WARNING mlflow.utils.autologging_utils: Encountered unexpected error during sklearn autologging: UserError: Resource Conflict: ArtifactId ExperimentRun/dcid.432b8fd0-4961-4ed2-9e06-56c2f51ece24/training_confusion_matrix.png already exists.\nUserError: Resource Conflict: ArtifactId ExperimentRun/dcid.432b8fd0-4961-4ed2-9e06-56c2f51ece24/training_precision_recall_curve.png already exists.\nUserError: Resource Conflict: ArtifactId ExperimentRun/dcid.432b8fd0-4961-4ed2-9e06-56c2f51ece24/training_roc_curve.png already exists.\n2024/03/15 15:06:51 WARNING mlflow.utils.autologging_utils: Encountered unexpected error during sklearn autologging: UserError: Resource Conflict: ArtifactId ExperimentRun/dcid.432b8fd0-4961-4ed2-9e06-56c2f51ece24/training_confusion_matrix.png already exists.\nUserError: Resource Conflict: ArtifactId ExperimentRun/dcid.432b8fd0-4961-4ed2-9e06-56c2f51ece24/training_precision_recall_curve.png already exists.\nUserError: Resource Conflict: ArtifactId ExperimentRun/dcid.432b8fd0-4961-4ed2-9e06-56c2f51ece24/training_roc_curve.png already exists.\nRegistered model 'sklearn_apple_model' already exists. Creating a new version of this model...\n2024/03/15 15:06:52 INFO mlflow.tracking._model_registry.client: Waiting up to 300 seconds for model version to finish creation. Model name: sklearn_apple_model, version 2\nCreated version '2' of model 'sklearn_apple_model'.\n"
        },
        {
          "output_type": "stream",
          "name": "stdout",
          "text": "MLP Classifier cross-validation scores: [0.9325 0.9325 0.9375 0.9175 0.94  ]\nMean accuracy: 0.932\n"
        }
      ],
      "execution_count": 5,
      "metadata": {
        "jupyter": {
          "source_hidden": false,
          "outputs_hidden": false
        },
        "nteract": {
          "transient": {
            "deleting": false
          }
        },
        "gather": {
          "logged": 1710515212901
        }
      }
    }
  ],
  "metadata": {
    "kernelspec": {
      "name": "python310-sdkv2",
      "language": "python",
      "display_name": "Python 3.10 - SDK v2"
    },
    "language_info": {
      "name": "python",
      "version": "3.10.11",
      "mimetype": "text/x-python",
      "codemirror_mode": {
        "name": "ipython",
        "version": 3
      },
      "pygments_lexer": "ipython3",
      "nbconvert_exporter": "python",
      "file_extension": ".py"
    },
    "microsoft": {
      "ms_spell_check": {
        "ms_spell_check_language": "en"
      },
      "host": {
        "AzureML": {
          "notebookHasBeenCompleted": true
        }
      }
    },
    "kernel_info": {
      "name": "python310-sdkv2"
    },
    "nteract": {
      "version": "nteract-front-end@1.0.0"
    }
  },
  "nbformat": 4,
  "nbformat_minor": 2
}